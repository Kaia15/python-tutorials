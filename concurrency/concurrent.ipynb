{
 "cells": [
  {
   "cell_type": "code",
   "execution_count": 10,
   "id": "83cbe3b3",
   "metadata": {},
   "outputs": [
    {
     "name": "stdout",
     "output_type": "stream",
     "text": [
      "Requirement already satisfied: tqdm in c:\\users\\alice\\appdata\\local\\programs\\python\\python311\\lib\\site-packages (4.67.1)\n",
      "Requirement already satisfied: colorama in c:\\users\\alice\\appdata\\local\\programs\\python\\python311\\lib\\site-packages (from tqdm) (0.4.6)\n",
      "Note: you may need to restart the kernel to use updated packages.\n"
     ]
    },
    {
     "name": "stderr",
     "output_type": "stream",
     "text": [
      "\n",
      "[notice] A new release of pip is available: 24.3.1 -> 25.1\n",
      "[notice] To update, run: python.exe -m pip install --upgrade pip\n"
     ]
    }
   ],
   "source": [
    "pip install tqdm"
   ]
  },
  {
   "cell_type": "code",
   "execution_count": null,
   "id": "3ea5551a",
   "metadata": {},
   "outputs": [],
   "source": [
    "from tqdm import notebook\n",
    "import time\n",
    "from multiprocessing import Pool\n",
    "\n",
    "def foo2(id):\n",
    "    total = 100\n",
    "    print(' ', end='', flush=True)\n",
    "    for _ in notebook.tqdm(range(0, total, 5)):\n",
    "        time.sleep(0.1)\n",
    "\n",
    "pool = Pool(5)\n",
    "#pool.map(foo2, range(5)) # this also works fine with the new hack\n",
    "for i in range(5):\n",
    "    pool.apply_async(foo2, args=(i,))\n",
    "pool.close()\n",
    "pool.join()"
   ]
  }
 ],
 "metadata": {
  "kernelspec": {
   "display_name": "Python 3",
   "language": "python",
   "name": "python3"
  },
  "language_info": {
   "codemirror_mode": {
    "name": "ipython",
    "version": 3
   },
   "file_extension": ".py",
   "mimetype": "text/x-python",
   "name": "python",
   "nbconvert_exporter": "python",
   "pygments_lexer": "ipython3",
   "version": "3.11.0"
  }
 },
 "nbformat": 4,
 "nbformat_minor": 5
}
